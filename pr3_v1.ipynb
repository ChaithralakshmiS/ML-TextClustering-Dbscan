{
 "cells": [
  {
   "cell_type": "code",
   "execution_count": 1,
   "metadata": {},
   "outputs": [],
   "source": [
    "# Import libraries\n",
    "from collections import defaultdict,Counter\n",
    "import importlib,math\n",
    "from importlib import reload  \n",
    "get_ipython().run_line_magic('matplotlib', 'inline')\n",
    "import matplotlib.pyplot as plt\n",
    "import numpy as np\n",
    "import pandas as pd\n",
    "import scipy as scipy\n",
    "from scipy import stats\n",
    "from scipy.sparse import csr_matrix\n",
    "from scipy.spatial import distance\n",
    "from scipy.sparse.linalg import norm\n",
    "from sklearn import cluster,metrics\n",
    "from sklearn.metrics import silhouette_score\n",
    "from sklearn.metrics.pairwise import paired_distances,cosine_similarity,cosine_distances,paired_euclidean_distances\n",
    "from sklearn.preprocessing import StandardScaler,normalize\n",
    "from sklearn.decomposition import TruncatedSVD,PCA\n",
    "from sklearn.neighbors import NearestNeighbors\n",
    "from sklearn.neighbors.kde import KernelDensity\n",
    "\n",
    "from sklearn.feature_selection import VarianceThreshold\n",
    "pd.options.display.max_columns=201\n",
    "from sklearn.cluster import DBSCAN\n",
    "from sklearn import preprocessing\n",
    "import seaborn as sns\n",
    "\n"
   ]
  },
  {
   "cell_type": "code",
   "execution_count": 2,
   "metadata": {},
   "outputs": [],
   "source": [
    "#Read input data\n",
    "train_file='data/train.dat'\n",
    "file_input=[]\n",
    "with open(train_file) as read_file:\n",
    "    file_input = read_file.read().splitlines()\n"
   ]
  },
  {
   "cell_type": "code",
   "execution_count": 3,
   "metadata": {},
   "outputs": [],
   "source": [
    "# Separate terms and term frequencies in to terms,term_freq lists\n",
    "docs=[]\n",
    "terms=[]\n",
    "term_freq=[]\n",
    "all_terms=[]\n",
    "for i in range(len(file_input)):\n",
    "    docs.append([int(n) for n in file_input[i].split()])\n",
    "    doc_term=[]\n",
    "    for j in range(0,len(docs[i]),2):\n",
    "        doc_term.append(docs[i][j])\n",
    "        all_terms.append(docs[i][j])\n",
    "        #print(i,j)\n",
    "    terms.append(doc_term)\n",
    "    doc_term_freq=[]\n",
    "    for k in range(1,len(docs[i]),2):\n",
    "        doc_term_freq.append(docs[i][k])\n",
    "        #print(i,j)\n",
    "    term_freq.append(doc_term_freq)\n",
    "        \n"
   ]
  },
  {
   "cell_type": "code",
   "execution_count": 4,
   "metadata": {},
   "outputs": [],
   "source": [
    "all_terms=np.unique(all_terms)\n",
    "nnz=0\n",
    "#Build a matrix with documents as rows, terms as columns, term frequencies as values\n",
    "mat=np.zeros((len(file_input),max(all_terms)+1), dtype=float)\n",
    "for i in range(len(terms)):\n",
    "    mat_row=i\n",
    "    for j in range(len(terms[i])):\n",
    "            mat_col=terms[i][j]\n",
    "            mat[mat_row][mat_col]=term_freq[i][j]\n",
    "        \n",
    "mat1=mat\n",
    "\n"
   ]
  },
  {
   "cell_type": "code",
   "execution_count": 5,
   "metadata": {},
   "outputs": [],
   "source": [
    "\n",
    "#Normalize the matrix\n",
    "mat2=preprocessing.normalize(mat, norm='l2', axis=1)"
   ]
  },
  {
   "cell_type": "code",
   "execution_count": 6,
   "metadata": {},
   "outputs": [],
   "source": [
    "# Use SVD to reduce dimensionality\n",
    "tsvd = TruncatedSVD(n_components=8,random_state=42)\n",
    "mat3 = tsvd.fit(mat2).transform(mat2)\n"
   ]
  },
  {
   "cell_type": "code",
   "execution_count": 7,
   "metadata": {},
   "outputs": [],
   "source": [
    "# Calculate cosine distances between all documents \n",
    "dist_mat=np.zeros((mat3.shape[0],mat3.shape[0]), dtype=float)\n",
    "cos_dist=cosine_distances(mat3,mat3)\n"
   ]
  },
  {
   "cell_type": "code",
   "execution_count": 8,
   "metadata": {},
   "outputs": [
    {
     "name": "stdout",
     "output_type": "stream",
     "text": [
      "0.4913159032477317\n",
      "(8580, 8580)\n"
     ]
    }
   ],
   "source": [
    "\n",
    "dist_mat=cos_dist.copy()\n",
    "print(dist_mat.mean())\n",
    "print(dist_mat.shape)\n",
    "\n",
    "\n"
   ]
  },
  {
   "cell_type": "code",
   "execution_count": 9,
   "metadata": {},
   "outputs": [
    {
     "data": {
      "text/plain": [
       "[<matplotlib.lines.Line2D at 0x596141390>]"
      ]
     },
     "execution_count": 9,
     "metadata": {},
     "output_type": "execute_result"
    },
    {
     "data": {
      "image/png": "[encoded data removed]",
      "text/plain": [
       "<Figure size 432x288 with 1 Axes>"
      ]
     },
     "metadata": {
      "needs_background": "light"
     },
     "output_type": "display_data"
    }
   ],
   "source": [
    "#\n",
    "knn=dist_mat.copy()\n",
    "\n",
    "ns = 7\n",
    "nbrs = NearestNeighbors(n_neighbors=ns).fit(knn)\n",
    "distances, indices = nbrs.kneighbors(knn)\n",
    "\n",
    "\n",
    "distanceDec = sorted(distances[:,ns-1])\n",
    "\n"
   ]
  },
  {
   "cell_type": "code",
   "execution_count": 46,
   "metadata": {},
   "outputs": [
    {
     "data": {
      "text/plain": [
       "[<matplotlib.lines.Line2D at 0x11545e828>]"
      ]
     },
     "execution_count": 46,
     "metadata": {},
     "output_type": "execute_result"
    },
    {
     "data": {
      "image/png": "[encoded data removed]",
      "text/plain": [
       "<Figure size 432x288 with 1 Axes>"
      ]
     },
     "metadata": {
      "needs_background": "light"
     },
     "output_type": "display_data"
    }
   ],
   "source": [
    "plt.ylabel('distance of kth nearest neighbor')\n",
    "plt.xlabel('documents')\n",
    "plt.plot(list(range(1,dist_mat.shape[0]+1)), distanceDec)\n"
   ]
  },
  {
   "cell_type": "code",
   "execution_count": 47,
   "metadata": {},
   "outputs": [
    {
     "data": {
      "text/plain": [
       "<Figure size 432x288 with 0 Axes>"
      ]
     },
     "metadata": {},
     "output_type": "display_data"
    }
   ],
   "source": [
    "plt.savefig('kth_plot.png')"
   ]
  },
  {
   "cell_type": "code",
   "execution_count": 11,
   "metadata": {},
   "outputs": [],
   "source": [
    "# Find points within epsilon\n",
    "def find_neighbors(dist_mat,col_num, eps, doc_num,cluster_labels):\n",
    "    neighbor_loc = []\n",
    "    for indx_neighbor in range(0, col_num):\n",
    "        if((dist_mat[doc_num][indx_neighbor]<= eps) and (cluster_labels[indx_neighbor]<=0 )):\n",
    "            neighbor_loc.append(indx_neighbor)\n",
    "        \n",
    "    return neighbor_loc\n"
   ]
  },
  {
   "cell_type": "code",
   "execution_count": 12,
   "metadata": {},
   "outputs": [],
   "source": [
    "# DBSCAN algorithm\n",
    "def dbscan_algo(eps,MinPts, dist_mat):\n",
    "    label=0\n",
    "    row_num=dist_mat.shape[0]\n",
    "    col_num=dist_mat.shape[1]\n",
    "    noise_pts=[]\n",
    "    cluster_labels = [-2]*dist_mat.shape[0]\n",
    "    border_pts = []\n",
    "    core_pts = []\n",
    "    num_labels=0\n",
    "    # for each document, find other documents with distance < epsilon\n",
    "    for index1 in range(len(cluster_labels)):\n",
    "        \n",
    "        if cluster_labels[index1]<0 :\n",
    "            cluster_labels[index1]=-1\n",
    "            doc_num=index1\n",
    "    \n",
    "    \n",
    "            neighbors_loc = find_neighbors(dist_mat,col_num,eps,doc_num,cluster_labels)\n",
    "            num_of_neighbors=len(neighbors_loc)\n",
    "            # If the points within epsilon > MinPts, then it is a core point\n",
    "            # Create a new cluster label, assign this label to all the unvisited and noise points\n",
    "            if num_of_neighbors>MinPts and cluster_labels[doc_num]<0:\n",
    "                label=label+1\n",
    "                #print(label,num_of_neighbors)\n",
    "    \n",
    "                core_pts.append(doc_num)\n",
    "                for indx_neighbor in range(len(neighbors_loc)):\n",
    "                        label_index=neighbors_loc[indx_neighbor]\n",
    "                        cluster_labels[label_index]=int(label)\n",
    "            else:\n",
    "                # If the points within epsilon<=MinPts, assign them as noise point\n",
    "                noise_pts.append(doc_num)\n",
    "        else:\n",
    "            num_labels=num_labels+1\n",
    "                    \n",
    "    # Check if the noise points are border points\n",
    "    # If not, they will remain as noise points\n",
    "    for index1 in range(len(noise_pts)):\n",
    "        \n",
    "        if cluster_labels[index1]==-1 :\n",
    "            doc_num=index1\n",
    "        noise_core_dist=[]\n",
    "        noise_label=-1\n",
    "        noise_dist=0\n",
    "        for j in range(len(core_pts)):\n",
    "            if dist_mat[noise_pts[index1]][core_pts[j]]>noise_dist:\n",
    "                cluster_labels[noise_pts[index1]]=cluster_labels[core_pts[j]]\n",
    "    print('eps = ',eps, '    MinPts = ',MinPts)\n",
    "    #print('   Noise Points = ',len(noise_pts))\n",
    "    print('Lables_count : ', Counter(cluster_labels))\n",
    "    \n",
    "    return cluster_labels      "
   ]
  },
  {
   "cell_type": "code",
   "execution_count": 38,
   "metadata": {},
   "outputs": [
    {
     "name": "stdout",
     "output_type": "stream",
     "text": [
      "eps =  0.22     MinPts =  3\n",
      "Lables_count :  Counter({4: 1502, 2: 1127, 7: 966, 6: 879, 1: 864, 8: 659, 9: 395, 3: 332, 14: 326, 10: 276, 12: 186, 5: 176, 11: 174, 16: 141, 22: 101, 13: 93, 15: 78, 20: 62, 17: 60, 18: 58, 25: 38, 29: 20, 21: 19, 23: 18, 19: 13, 24: 5, 26: 5, 28: 4, 27: 3})\n",
      "Silhouette_Score =  0.05629483294338555  \n",
      "\n",
      "eps =  0.22     MinPts =  5\n",
      "Lables_count :  Counter({4: 1502, 2: 1127, 7: 966, 6: 879, 1: 864, 8: 659, 9: 395, 3: 332, 14: 326, 10: 276, 12: 186, 5: 176, 11: 174, 16: 141, 22: 101, 13: 93, 15: 78, 20: 62, 17: 60, 18: 58, 24: 38, 26: 22, 21: 19, 23: 18, 25: 15, 19: 13})\n",
      "Silhouette_Score =  0.06452246805886433  \n",
      "\n",
      "eps =  0.22     MinPts =  7\n",
      "Lables_count :  Counter({4: 1502, 2: 1127, 7: 966, 6: 879, 1: 864, 8: 659, 9: 395, 3: 332, 14: 326, 10: 276, 12: 186, 5: 176, 11: 174, 16: 141, 22: 101, 13: 93, 15: 78, 20: 62, 17: 60, 18: 58, 24: 38, 25: 37, 21: 19, 23: 18, 19: 13})\n",
      "Silhouette_Score =  0.06804929724256108  \n",
      "\n",
      "eps =  0.22     MinPts =  9\n",
      "Lables_count :  Counter({4: 1502, 2: 1127, 7: 966, 6: 879, 1: 864, 8: 659, 9: 395, 3: 332, 14: 326, 10: 276, 12: 186, 5: 176, 11: 174, 16: 141, 22: 101, 13: 93, 15: 78, 20: 62, 17: 60, 18: 58, 24: 38, 25: 37, 21: 19, 23: 18, 19: 13})\n",
      "Silhouette_Score =  0.06804929724256108  \n",
      "\n",
      "eps =  0.22     MinPts =  11\n",
      "Lables_count :  Counter({4: 1502, 2: 1127, 7: 966, 6: 879, 1: 864, 8: 659, 9: 395, 3: 332, 14: 326, 10: 276, 12: 186, 5: 176, 11: 174, 16: 141, 22: 101, 13: 93, 15: 78, 20: 62, 17: 60, 18: 58, 24: 38, 25: 37, 21: 19, 23: 18, 19: 13})\n",
      "Silhouette_Score =  0.06804929724256108  \n",
      "\n",
      "eps =  0.22     MinPts =  13\n",
      "Lables_count :  Counter({4: 1502, 2: 1127, 7: 966, 6: 879, 1: 864, 8: 659, 9: 395, 3: 332, 14: 326, 10: 276, 12: 186, 5: 176, 11: 174, 16: 141, 21: 101, 13: 93, 15: 78, 19: 62, 17: 60, 18: 58, 24: 40, 23: 38, 20: 29, 22: 18})\n",
      "Silhouette_Score =  0.07249498932745581  \n",
      "\n",
      "eps =  0.22     MinPts =  15\n",
      "Lables_count :  Counter({4: 1502, 2: 1127, 7: 966, 6: 879, 1: 864, 8: 659, 9: 395, 3: 332, 14: 326, 10: 276, 12: 186, 5: 176, 11: 174, 16: 141, 21: 101, 13: 93, 15: 78, 19: 62, 17: 60, 18: 58, 24: 40, 23: 38, 20: 29, 22: 18})\n",
      "Silhouette_Score =  0.07249498932745581  \n",
      "\n",
      "eps =  0.22     MinPts =  17\n",
      "Lables_count :  Counter({4: 1502, 2: 1127, 7: 966, 6: 879, 1: 864, 8: 659, 9: 395, 3: 332, 14: 326, 10: 276, 12: 186, 5: 176, 11: 174, 16: 141, 21: 101, 13: 93, 15: 78, 23: 78, 19: 62, 17: 60, 18: 58, 20: 29, 22: 18})\n",
      "Silhouette_Score =  0.07425165053725391  \n",
      "\n",
      "eps =  0.22     MinPts =  19\n",
      "Lables_count :  Counter({4: 1502, 2: 1127, 7: 966, 6: 879, 1: 864, 8: 659, 9: 395, 3: 332, 14: 326, 10: 276, 12: 186, 5: 176, 11: 174, 16: 141, 21: 101, 22: 96, 13: 93, 15: 78, 19: 62, 17: 60, 18: 58, 20: 29})\n",
      "Silhouette_Score =  0.07787819848390767  \n",
      "\n",
      "eps =  0.22     MinPts =  21\n",
      "Lables_count :  Counter({4: 1502, 2: 1127, 7: 966, 6: 879, 1: 864, 8: 659, 9: 395, 3: 332, 14: 326, 10: 276, 12: 186, 5: 176, 11: 174, 16: 141, 21: 101, 22: 96, 13: 93, 15: 78, 19: 62, 17: 60, 18: 58, 20: 29})\n",
      "Silhouette_Score =  0.07787819848390767  \n",
      "\n"
     ]
    }
   ],
   "source": [
    "eps=0.22\n",
    "\n",
    "\n",
    "# Calculate Silhouette score\n",
    "sil_score_list=[]\n",
    "min_pts=[]\n",
    "for MinPts in range(3, 22,2):\n",
    "        min_pts.append(MinPts)\n",
    "        cluster_labels = dbscan_algo(eps,MinPts,dist_mat)\n",
    "        sil_score=metrics.silhouette_score(dist_mat, cluster_labels)\n",
    "        sil_score_list.append(sil_score)\n",
    "        print(\"Silhouette_Score = \", sil_score,' \\n')\n",
    "\n",
    "\n"
   ]
  },
  {
   "cell_type": "code",
   "execution_count": 48,
   "metadata": {},
   "outputs": [
    {
     "data": {
      "image/png": "[encoded data removed]",
      "text/plain": [
       "<Figure size 432x288 with 1 Axes>"
      ]
     },
     "metadata": {
      "needs_background": "light"
     },
     "output_type": "display_data"
    },
    {
     "data": {
      "text/plain": [
       "<Figure size 432x288 with 0 Axes>"
      ]
     },
     "metadata": {},
     "output_type": "display_data"
    }
   ],
   "source": [
    "\n",
    "plt.xlabel('Number of MinPts')\n",
    "plt.ylabel('Silhoutte Score')\n",
    "plt.plot(min_pts, sil_score_list)\n",
    "\n",
    "\n",
    "plt.show()\n",
    "\n",
    "plt.savefig('Silhouette_score_plot.png')"
   ]
  },
  {
   "cell_type": "code",
   "execution_count": 43,
   "metadata": {},
   "outputs": [
    {
     "name": "stdout",
     "output_type": "stream",
     "text": [
      "eps =  0.22     MinPts =  21\n",
      "Lables_count :  Counter({4: 1502, 2: 1127, 7: 966, 6: 879, 1: 864, 8: 659, 9: 395, 3: 332, 14: 326, 10: 276, 12: 186, 5: 176, 11: 174, 16: 141, 21: 101, 22: 96, 13: 93, 15: 78, 19: 62, 17: 60, 18: 58, 20: 29})\n"
     ]
    }
   ],
   "source": [
    "eps=0.22\n",
    "MinPts=21\n",
    "cluster_labels = dbscan_algo(eps,MinPts,dist_mat)\n"
   ]
  },
  {
   "cell_type": "code",
   "execution_count": 41,
   "metadata": {},
   "outputs": [],
   "source": [
    "np.savetxt('pr3_final_5.dat', cluster_labels, delimiter=\" \", fmt=\"%s\")"
   ]
  },
  {
   "cell_type": "code",
   "execution_count": null,
   "metadata": {},
   "outputs": [],
   "source": []
  }
 ],
 "metadata": {
  "kernelspec": {
   "display_name": "Python 3",
   "language": "python",
   "name": "python3"
  },
  "language_info": {
   "codemirror_mode": {
    "name": "ipython",
    "version": 3
   },
   "file_extension": ".py",
   "mimetype": "text/x-python",
   "name": "python",
   "nbconvert_exporter": "python",
   "pygments_lexer": "ipython3",
   "version": "3.7.0"
  }
 },
 "nbformat": 4,
 "nbformat_minor": 2
}
